{
  "cells": [
    {
      "cell_type": "markdown",
      "metadata": {
        "id": "yOclOxpU-Qrh"
      },
      "source": [
        "# **Final Exam: Video Game Sales and Ratings**\n",
        "![Python for Data Analysts](https://github.com/renan-peres/mfin-python-data-analysts/blob/main/images/final_exam_banner.png?raw=1)\n",
        "\n",
        "## **Overview**\n",
        "This project was developed by [Renan Peres](https://www.linkedin.com/in/renanperes/) for the ***Python for Data Analysts: Methods & Tools*** (DAT-7466 - BMFIN1) final exam in the in Spring 2025, led by Professor [Michael de la Maza](https://www.linkedin.com/in/michaeldelamaza/).\n",
        "\n",
        "\n",
        "## **Dataset Context**\n",
        "\n",
        "**Data Source**: Video Game Sales and Ratings: https://www.kaggle.com/datasets/thedevastator/video-game-sales-and-ratings\n",
        "\n",
        "The Video Games Sales and Ratings Dataset provides an in-depth view into the dynamic world of video games, offering a comprehensive analysis of sales and ratings across diverse platforms and publishers. This dataset contains valuable facets of information that bring to light various insights about the video game industry over the years.\n",
        "\n",
        "The dataset includes critical aspects such as the Name of each individual video game which was accounted for in this data aggregation process. The name captures the branded title under which a specific game is marketed and sold within the global market.\n",
        "\n",
        "## **Contents**\n",
        "- [Prepare Environmnet](#prepare-environment)\n",
        "- [Import Dataset](#download--import-datasets)\n",
        "- [Exploratory Data Analysis (EDA)](#exploratory-data-analysis-eda)\n",
        "  - Descriptive statistics\n",
        "  - Missing values or errors in the dataset\n",
        "- [Data Cleaning & Transformation](#data-cleaning--transformation)\n",
        "  - Selecting rows, columns, cells\n",
        "  - Dropping and adding rows and columns\n",
        "  - Filtering\n",
        "  - Sorting\n",
        "- [Data Analysis & Visualization](#data-analysis--visualization)\n",
        "  - [Orders](#orders)\n",
        "  - [Items](#items)\n",
        "  - [Order Type](#order-type)\n",
        "- [Insights & Recommendations](#insights--recommendations)\n",
        "  - [Where should the new restaurant be located?](#q1-where-should-the-new-restaurant-be-located)\n",
        "  - [Which items should be included in the new restaurant?](#q2-which-items-should-be-included-in-the-new-restaurant)\n",
        "  - [What type of restaurant should it be?](#q3-what-type-of-restaurant-should-it-be)"
      ]
    },
    {
      "cell_type": "markdown",
      "source": [
        "## **Prepare Environment**\n",
        "Have a jupyter environment ready, and import or `pip install` these libraries:"
      ],
      "metadata": {
        "id": "cOCWuhiu5ig8"
      }
    },
    {
      "cell_type": "code",
      "source": [
        "# !pip install -q gdown -q highcharts-core -q kaleido\n",
        "\n",
        "import pandas as pd\n",
        "import numpy as np\n",
        "\n",
        "import matplotlib.pyplot as plt\n",
        "import matplotlib.ticker as ticker\n",
        "import plotly.express as px\n",
        "import plotly.graph_objects as go\n",
        "# from highcharts_core.chart import Chart\n",
        "\n",
        "import statsmodels.api as sm\n",
        "from typing import Tuple, List, Dict\n",
        "import os"
      ],
      "metadata": {
        "id": "cHZuW7jz5g7l"
      },
      "execution_count": null,
      "outputs": []
    },
    {
      "cell_type": "markdown",
      "metadata": {
        "id": "YcOlTYApY5_E"
      },
      "source": [
        "## **Import Dataset**\n",
        "Import the `Video_Games.csv` dataset from [Kaggle](https://www.kaggle.com/datasets/thedevastator/video-game-sales-and-ratings)"
      ]
    },
    {
      "cell_type": "code",
      "execution_count": null,
      "metadata": {
        "id": "JPEtwFGx-Uyp"
      },
      "outputs": [],
      "source": [
        "import pandas as pd\n",
        "\n",
        "df = pd.read_csv('Video_Games.csv')\n",
        "print(df.shape)\n",
        "df.head()"
      ]
    },
    {
      "cell_type": "markdown",
      "metadata": {
        "id": "_yA77nPQYyK4"
      },
      "source": [
        "## **Exploratory Data Analysis (EDA)**"
      ]
    },
    {
      "cell_type": "code",
      "source": [
        "df.info()"
      ],
      "metadata": {
        "id": "84Ye_5qA6qZA"
      },
      "execution_count": null,
      "outputs": []
    },
    {
      "cell_type": "markdown",
      "source": [
        "### Missing Value"
      ],
      "metadata": {
        "id": "hHXY-FZT6brn"
      }
    },
    {
      "cell_type": "code",
      "execution_count": null,
      "metadata": {
        "id": "BxA_T4zMF1Hr"
      },
      "outputs": [],
      "source": [
        "# Are there any missing values? No\n",
        "df.isnull().sum()"
      ]
    },
    {
      "cell_type": "markdown",
      "source": [
        "### Descriptive Statistics"
      ],
      "metadata": {
        "id": "KitaCBSH6XYs"
      }
    },
    {
      "cell_type": "code",
      "execution_count": null,
      "metadata": {
        "id": "5abnS0zZW8IG"
      },
      "outputs": [],
      "source": [
        "df.describe().transpose()"
      ]
    },
    {
      "cell_type": "markdown",
      "metadata": {
        "id": "GL9kgsBpY_jM"
      },
      "source": [
        "## **Select Column/Row**"
      ]
    },
    {
      "cell_type": "code",
      "execution_count": null,
      "metadata": {
        "id": "esZNuBAIF-MO"
      },
      "outputs": [],
      "source": [
        "# Select a column\n",
        "\n",
        "df['Pregnancies']"
      ]
    },
    {
      "cell_type": "code",
      "execution_count": null,
      "metadata": {
        "id": "7uK7Vd8uU2h9"
      },
      "outputs": [],
      "source": [
        "# Select a row\n",
        "df.iloc[0]"
      ]
    },
    {
      "cell_type": "code",
      "execution_count": null,
      "metadata": {
        "id": "DhKh3Ym0g-4W"
      },
      "outputs": [],
      "source": [
        "row_25 = df.iloc[24]"
      ]
    },
    {
      "cell_type": "code",
      "execution_count": null,
      "metadata": {
        "id": "ZHMCtSkKhEpI"
      },
      "outputs": [],
      "source": [
        "row_25"
      ]
    },
    {
      "cell_type": "code",
      "execution_count": null,
      "metadata": {
        "id": "exFTDXF8gzUa"
      },
      "outputs": [],
      "source": [
        "# 5 minute exercise\n",
        "# 1. Select the column 'SkinThickness' and assign it to the variable skinthickness\n",
        "\n",
        "skinthickness = df['SkinThickness']\n",
        "skinthickness"
      ]
    },
    {
      "cell_type": "code",
      "execution_count": null,
      "metadata": {
        "id": "CJ1RsK3ncpV2"
      },
      "outputs": [],
      "source": [
        "# 2. Select the 25th row from skinthickness and assign it to the variable row_25\n",
        "row_25 = skinthickness.iloc[24]\n",
        "row_25"
      ]
    },
    {
      "cell_type": "code",
      "execution_count": null,
      "metadata": {
        "id": "GtQ7brGNbYtD"
      },
      "outputs": [],
      "source": [
        "# Select a cell\n",
        "# row x column format\n",
        "print(df.iloc[0,0])\n",
        "print(df.iloc[0,1])\n",
        "print(df.iloc[1,0])"
      ]
    },
    {
      "cell_type": "code",
      "execution_count": null,
      "metadata": {
        "id": "BQk22uniFxaq"
      },
      "outputs": [],
      "source": [
        "# Return a dataframe\n",
        "\n",
        "df[['Pregnancies']]"
      ]
    },
    {
      "cell_type": "code",
      "execution_count": null,
      "metadata": {
        "id": "d5vpRScyGPG9"
      },
      "outputs": [],
      "source": [
        "# Return a dataframe with two columns\n",
        "\n",
        "df[['Pregnancies','SkinThickness']]"
      ]
    },
    {
      "cell_type": "code",
      "execution_count": null,
      "metadata": {
        "id": "fcZDYnknGU1e"
      },
      "outputs": [],
      "source": [
        "# 3 minute exercise\n",
        "# Return a dataframe with 'Age', 'Insulin', and 'Outcome'\n",
        "df[['Age','Insulin','Outcome']]"
      ]
    },
    {
      "cell_type": "markdown",
      "metadata": {
        "id": "ljuWcf4PZLp8"
      },
      "source": [
        "## **Filter Columns**"
      ]
    },
    {
      "cell_type": "markdown",
      "metadata": {
        "id": "rzLv6VaVkKav"
      },
      "source": [
        "### **Single Parameter**"
      ]
    },
    {
      "cell_type": "code",
      "execution_count": null,
      "metadata": {
        "id": "B_m-SM_AGcQJ"
      },
      "outputs": [],
      "source": [
        "# Filter rows by outcome\n",
        "\n",
        "outcome_1 = df[df['Outcome']==1]\n",
        "outcome_1"
      ]
    },
    {
      "cell_type": "code",
      "execution_count": null,
      "metadata": {
        "id": "slezMuq2mjz_"
      },
      "outputs": [],
      "source": [
        "df['Outcome']==1"
      ]
    },
    {
      "cell_type": "code",
      "execution_count": null,
      "metadata": {
        "id": "eHpaQXfHGw5e"
      },
      "outputs": [],
      "source": [
        "# Filter rows by SkinThickness > 30\n",
        "\n",
        "skinthickness_30 = df[df['SkinThickness']>30]\n",
        "\n",
        "skinthickness_30"
      ]
    },
    {
      "cell_type": "markdown",
      "metadata": {
        "id": "EscH3EWKjWcw"
      },
      "source": [
        "### **2 Different Parameters**\n"
      ]
    },
    {
      "cell_type": "code",
      "execution_count": null,
      "metadata": {
        "id": "1Wp28up1G--v"
      },
      "outputs": [],
      "source": [
        "# 5 minute exercise\n",
        "# Return all rows with Glucose greater than 100 (exclusive) and less than 130 (exclusive)\n",
        "filtered_df = df[(df['Glucose'] > 100) & (df['Glucose'] < 130)]\n",
        "filtered_df"
      ]
    },
    {
      "cell_type": "code",
      "execution_count": null,
      "metadata": {
        "id": "Ise-AqYiokIn"
      },
      "outputs": [],
      "source": [
        "glucose_g100 = df[df['Glucose']>100]\n",
        "glucose_g100\n",
        "\n",
        "glucose_g100_l130 = glucose_g100[glucose_g100['Glucose']<130]\n",
        "glucose_g100_l130"
      ]
    },
    {
      "cell_type": "markdown",
      "metadata": {
        "id": "k0fWLBMjj0Ei"
      },
      "source": [
        "### **isin() Syntax**"
      ]
    },
    {
      "cell_type": "code",
      "execution_count": null,
      "metadata": {
        "id": "cwB48FVdHER2"
      },
      "outputs": [],
      "source": [
        "# Using the 'isin keyword'\n",
        "\n",
        "pregnancies = [0, 1, 2]\n",
        "\n",
        "pregnancies_2 = df[df[\"Pregnancies\"].isin(pregnancies)]\n",
        "\n",
        "pregnancies_2"
      ]
    },
    {
      "cell_type": "code",
      "execution_count": null,
      "metadata": {
        "id": "t5NDIxXnHZTg"
      },
      "outputs": [],
      "source": [
        "# 5 minute exercise\n",
        "# Use the isin keyword to return rows in which Age = 30, 31, or 32\n",
        "\n",
        "ages = [30, 31, 32]\n",
        "\n",
        "ages_30_31_32 = df[df[\"Age\"].isin(ages)]\n",
        "\n",
        "ages_30_31_32"
      ]
    },
    {
      "cell_type": "markdown",
      "metadata": {
        "id": "4Qh1turcZT-W"
      },
      "source": [
        "## **Predictions**"
      ]
    },
    {
      "cell_type": "code",
      "execution_count": null,
      "metadata": {
        "id": "mj8HtWDdekjk"
      },
      "outputs": [],
      "source": [
        "## Mini project\n",
        "# Client wants to know: Does high blood glucose increase the chances of diabetes (outcome=1)?\n",
        "\n",
        "# 5 minute exercise\n",
        "# Discuss how you would answer this question given the dataset\n",
        "# Write down your approach\n",
        "# You do not need to write any code\n",
        "\n",
        "# Avg glucose when Outcome is 0 (no diabetes)\n",
        "avg_glucose_outcome_0 = df[df['Outcome'] == 0]['Glucose'].mean()\n",
        "\n",
        "# Avg glucose when Outcome is 1 (diabetes)\n",
        "avg_glucose_outcome_1 = df[df['Outcome'] == 1]['Glucose'].mean()\n",
        "\n",
        "# Print out the results\n",
        "print(\"Average Glucose when Outcome is 0:\", avg_glucose_outcome_0)\n",
        "print(\"Average Glucose when Outcome is 1:\", avg_glucose_outcome_1)"
      ]
    },
    {
      "cell_type": "code",
      "execution_count": null,
      "metadata": {
        "id": "WGzRrVytezUi"
      },
      "outputs": [],
      "source": [
        "# Compare people with low glucose to people with high glucose\n",
        "\n",
        "glucose_cutoff = 120\n",
        "\n",
        "# Low glucose, no diabetes\n",
        "l_glu_no_diab = df[(df['Glucose'] < glucose_cutoff) & (df['Outcome'] == 0)].shape[0]\n",
        "print(\"Number of people with low glucose and no diabetes\")\n",
        "print(l_glu_no_diab)\n",
        "\n",
        "# Low glucose, diabetes\n",
        "l_glu_diab = df[(df['Glucose'] < glucose_cutoff) & (df['Outcome'] == 1)].shape[0]\n",
        "print(\"Number of people with low glucose and diabetes\")\n",
        "print(l_glu_diab)\n",
        "\n",
        "# High glucose, no diabetes\n",
        "h_glu_no_diab = df[(df['Glucose'] >= glucose_cutoff) & (df['Outcome'] == 0)].shape[0]\n",
        "print(\"Number of people with high glucose and no diabetes\")\n",
        "print(h_glu_no_diab)\n",
        "\n",
        "# High glucose, diabetes\n",
        "h_glu_diab = df[(df['Glucose'] >= glucose_cutoff) & (df['Outcome'] == 1)].shape[0]\n",
        "print(\"Number of people with high glucose and diabetes\")\n",
        "print(h_glu_diab)\n",
        "\n",
        "# Percentage of people with low glucose with diabetes\n",
        "l_glu_diab_perc = l_glu_diab/(l_glu_no_diab+l_glu_diab)\n",
        "\n",
        "# Percentage of people with high glucose with diabetes\n",
        "h_glub_diab_perc = h_glu_diab/(h_glu_no_diab+h_glu_diab)\n",
        "\n",
        "# Print results\n",
        "print(\"Percentage of people with LOW glucose with diabetes\")\n",
        "print(l_glu_diab_perc)\n",
        "print(\"Percentage of people with HIGH glucose with diabetes\")\n",
        "print(h_glub_diab_perc)"
      ]
    },
    {
      "cell_type": "markdown",
      "metadata": {
        "id": "Bb9LLRdGZbtH"
      },
      "source": [
        "## **Visualization**"
      ]
    },
    {
      "cell_type": "code",
      "execution_count": null,
      "metadata": {
        "id": "4ZMY_WzUhb-m"
      },
      "outputs": [],
      "source": [
        "# 5 minute exercise\n",
        "# Rerun with a higher glucose_cutoff\n",
        "# Explain each number\n",
        "# What is your conclusion? How would you explain it to a business?"
      ]
    },
    {
      "cell_type": "code",
      "execution_count": null,
      "metadata": {
        "id": "qzdV8xh0ipRr"
      },
      "outputs": [],
      "source": [
        "# Visualization\n",
        "\n",
        "plt.figure(figsize=(10, 6))\n",
        "plt.scatter(df[df['Outcome'] == 0]['Glucose'], df[df['Outcome'] == 0]['Outcome'], label='Outcome 0', alpha=0.5)\n",
        "plt.scatter(df[df['Outcome'] == 1]['Glucose'], df[df['Outcome'] == 1]['Outcome'], label='Outcome 1', alpha=0.5, color='orange')\n",
        "\n",
        "plt.title('Scatter Plot of Glucose Levels vs. Outcome')\n",
        "plt.xlabel('Glucose Level')\n",
        "plt.ylabel('Outcome')\n",
        "plt.yticks([0, 1], ['Outcome 0', 'Outcome 1'])\n",
        "plt.legend()\n",
        "\n",
        "# Show the plot\n",
        "plt.show()\n"
      ]
    },
    {
      "cell_type": "code",
      "execution_count": null,
      "metadata": {
        "id": "hVod6cgMiAUU"
      },
      "outputs": [],
      "source": [
        "# Better Visualization\n",
        "import seaborn as sns\n",
        "import matplotlib.pyplot as plt\n",
        "\n",
        "# Create the box plot\n",
        "plt.figure(figsize=(10, 6))\n",
        "sns.boxplot(x='Outcome', y='Glucose', data=df)\n",
        "\n",
        "# Add titles and labels\n",
        "plt.title('Comparison of Glucose Levels by Outcome')\n",
        "plt.xlabel('Outcome')\n",
        "plt.ylabel('Glucose Level')\n",
        "\n",
        "# Show the plot\n",
        "plt.show()\n"
      ]
    },
    {
      "cell_type": "code",
      "execution_count": null,
      "metadata": {
        "id": "Tn6oYbK0HdPV"
      },
      "outputs": [],
      "source": [
        "# Create a dataframe\n",
        "\n",
        "scores = [\n",
        "    {'Subject':'Mathematics', 'Score':85, 'Grade':'B', 'Remarks': 'Good'},\n",
        "    {'Subject':'History', 'Score':98, 'Grade':'A', 'Remarks': 'Excellent'},\n",
        "    {'Subject':'English', 'Score':76, 'Grade':'C', 'Remarks': 'Fair'},\n",
        "    {'Subject':'Science', 'Score':72, 'Grade':'C', 'Remarks': 'Fair'},\n",
        "    {'Subject':'Arts', 'Score':95, 'Grade':'A', 'Remarks': 'Excellent'}\n",
        "]\n",
        "\n",
        "my_df = pd.DataFrame(scores)\n",
        "my_df.head()"
      ]
    },
    {
      "cell_type": "code",
      "execution_count": null,
      "metadata": {
        "id": "ya89AWZ_ZrMF"
      },
      "outputs": [],
      "source": [
        "# What is the type of scores?\n",
        "type(scores)\n"
      ]
    },
    {
      "cell_type": "code",
      "execution_count": null,
      "metadata": {
        "id": "dB5rCMtuaJdB"
      },
      "outputs": [],
      "source": [
        "# 3 minute exercise\n",
        "# Add another row with subject 'Python' to my_df"
      ]
    },
    {
      "cell_type": "code",
      "execution_count": null,
      "metadata": {
        "id": "gev3J00GaNGZ"
      },
      "outputs": [],
      "source": [
        "# Print out second row\n",
        "# Remember that numbering starts with 0\n",
        "print(my_df.loc[1])"
      ]
    },
    {
      "cell_type": "code",
      "execution_count": null,
      "metadata": {
        "id": "90sdsyOJad-f"
      },
      "outputs": [],
      "source": [
        "# Print out a sequence of rows\n",
        "my_df.loc[2:4]"
      ]
    },
    {
      "cell_type": "code",
      "execution_count": null,
      "metadata": {
        "id": "O0wb0PwOai0R"
      },
      "outputs": [],
      "source": [
        "# Show only Grade and Score\n",
        "\n",
        "my_df.loc[2:4, [\"Grade\",\"Score\"]]"
      ]
    },
    {
      "cell_type": "code",
      "execution_count": null,
      "metadata": {
        "id": "kvYGjUb3aptj"
      },
      "outputs": [],
      "source": [
        "# Add an index to dataframe\n",
        "\n",
        "scores = [\n",
        "    {'Subject':'Mathematics', 'Score':85, 'Grade':'B', 'Remarks': 'Good'},\n",
        "    {'Subject':'History', 'Score':98, 'Grade':'A', 'Remarks': 'Excellent'},\n",
        "    {'Subject':'English', 'Score':76, 'Grade':'C', 'Remarks': 'Fair'},\n",
        "    {'Subject':'Science', 'Score':72, 'Grade':'C', 'Remarks': 'Fair'},\n",
        "    {'Subject':'Arts', 'Score':95, 'Grade':'A', 'Remarks': 'Excellent'}\n",
        "]\n",
        "\n",
        "my_df = pd.DataFrame(scores, index=[\"Student1\", \"Student2\", \"Student3\",\"Student4\", \"Student5\"])\n",
        "my_df"
      ]
    },
    {
      "cell_type": "code",
      "execution_count": null,
      "metadata": {
        "id": "JI6nH43Gbpr6"
      },
      "outputs": [],
      "source": [
        "my_df.loc[\"Student1\"]"
      ]
    },
    {
      "cell_type": "code",
      "execution_count": null,
      "metadata": {
        "id": "fMw0tLp-btgi"
      },
      "outputs": [],
      "source": [
        "# Reference multiple rows\n",
        "\n",
        "index_list = [\"Student1\",\"Student2\"]\n",
        "my_df.loc[index_list]"
      ]
    },
    {
      "cell_type": "code",
      "execution_count": null,
      "metadata": {
        "id": "1XJLo1z2b0PN"
      },
      "outputs": [],
      "source": [
        "# Return only Grade column\n",
        "my_df.loc[\"Student1\", \"Grade\"]"
      ]
    },
    {
      "cell_type": "code",
      "execution_count": null,
      "metadata": {
        "id": "QRtBHIwTb8-j"
      },
      "outputs": [],
      "source": [
        "# Return a range of students, Grade only\n",
        "\n",
        "my_df.loc[\"Student1\":\"Student3\",\"Grade\"]"
      ]
    },
    {
      "cell_type": "code",
      "execution_count": null,
      "metadata": {
        "id": "sZnfXA_xc65-"
      },
      "outputs": [],
      "source": [
        "# Multiple Boolean conditions\n",
        "\n",
        "my_df.loc[(my_df[\"Score\"]>80) & (my_df[\"Remarks\"] == \"Excellent\")]"
      ]
    },
    {
      "cell_type": "code",
      "execution_count": null,
      "metadata": {
        "id": "LWjjNovMdNis"
      },
      "outputs": [],
      "source": [
        "# Return only certain columns\n",
        "\n",
        "my_df.loc[(my_df[\"Score\"]>80) & (my_df[\"Remarks\"] == \"Excellent\"), [\"Score\",\"Grade\"]]"
      ]
    },
    {
      "cell_type": "code",
      "execution_count": null,
      "metadata": {
        "id": "_LiTD-aHds_A"
      },
      "outputs": [],
      "source": [
        "# Can set values!\n",
        "\n",
        "print(my_df)\n",
        "\n",
        "my_df.loc[\"Student4\"] = 90\n",
        "\n",
        "print(my_df)"
      ]
    },
    {
      "cell_type": "code",
      "execution_count": null,
      "metadata": {
        "id": "lxCMFYTcd6UK"
      },
      "outputs": [],
      "source": [
        "# 5 minute exercise\n",
        "# Change the Score of Student 3 to 97\n",
        "\n",
        "print(my_df)\n",
        "my_df.loc[\"Student3\", \"Score\"] = 97\n",
        "print(my_df)\n"
      ]
    },
    {
      "cell_type": "code",
      "execution_count": null,
      "metadata": {
        "id": "CgAVh130eHBZ"
      },
      "outputs": [],
      "source": [
        "# loc is index based\n",
        "# iloc is integer based\n"
      ]
    },
    {
      "cell_type": "code",
      "execution_count": null,
      "metadata": {
        "id": "EOGrhvSPhIdt"
      },
      "outputs": [],
      "source": [
        "# Define new scores\n",
        "\n",
        "scores = [\n",
        "    {'Subject':'Mathematics', 'Score':85, 'Grade':'B', 'Remarks': 'Good'},\n",
        "    {'Subject':'History', 'Score':98, 'Grade':'A', 'Remarks': 'Excellent'},\n",
        "    {'Subject':'English', 'Score':76, 'Grade':'C', 'Remarks': 'Fair'},\n",
        "    {'Subject':'Science', 'Score':72, 'Grade':'C', 'Remarks': 'Fair'},\n",
        "    {'Subject':'Arts', 'Score':95, 'Grade':'A', 'Remarks': 'Excellent'}\n",
        "]\n",
        "\n",
        "my_df = pd.DataFrame(scores)\n",
        "my_df"
      ]
    },
    {
      "cell_type": "code",
      "execution_count": null,
      "metadata": {
        "id": "PXdTvUbJhOks"
      },
      "outputs": [],
      "source": [
        "# Return 3rd (remember 0 based)\n",
        "\n",
        "my_df.iloc[3]"
      ]
    },
    {
      "cell_type": "code",
      "execution_count": null,
      "metadata": {
        "id": "_PKOCUJkhdiY"
      },
      "outputs": [],
      "source": [
        "# Return as DataFrame\n",
        "\n",
        "my_df.iloc[[3]]"
      ]
    },
    {
      "cell_type": "code",
      "execution_count": null,
      "metadata": {
        "id": "ABhGww5GhoVn"
      },
      "outputs": [],
      "source": [
        "print(type(my_df.iloc[3]))\n",
        "print(type(my_df.iloc[[3]]))"
      ]
    },
    {
      "cell_type": "code",
      "execution_count": null,
      "metadata": {
        "id": "PyDGBjOFhuA8"
      },
      "outputs": [],
      "source": [
        "# Return a range\n",
        "my_df.iloc[2:5]"
      ]
    },
    {
      "cell_type": "code",
      "execution_count": null,
      "metadata": {
        "id": "r_UfhiTXh06m"
      },
      "outputs": [],
      "source": [
        "# Select rows and columns\n",
        "\n",
        "my_df.iloc[[2,3],[0,1]]"
      ]
    },
    {
      "cell_type": "code",
      "execution_count": null,
      "metadata": {
        "id": "fGbzNPO1h9Wg"
      },
      "outputs": [],
      "source": [
        "# Can pass a range\n",
        "\n",
        "my_df.iloc[2:4, 0:2]"
      ]
    },
    {
      "cell_type": "markdown",
      "metadata": {
        "id": "KyPvRs81iEuQ"
      },
      "source": [
        "## Dropping Rows and Columns"
      ]
    },
    {
      "cell_type": "code",
      "execution_count": null,
      "metadata": {
        "id": "BjWuRU_ZiDAQ"
      },
      "outputs": [],
      "source": [
        "scores = [\n",
        "    {'Subject':'Mathematics', 'Score':85, 'Grade':'B', 'Remarks': 'Good'},\n",
        "    {'Subject':'History', 'Score':98, 'Grade':'A', 'Remarks': 'Excellent'},\n",
        "    {'Subject':'English', 'Score':76, 'Grade':'C', 'Remarks': 'Fair'},\n",
        "    {'Subject':'Science', 'Score':72, 'Grade':'C', 'Remarks': 'Fair'},\n",
        "    {'Subject':'Arts', 'Score':95, 'Grade':'A', 'Remarks': 'Excellent'}\n",
        "]\n",
        "\n",
        "my_df = pd.DataFrame(scores)\n",
        "my_df"
      ]
    },
    {
      "cell_type": "code",
      "execution_count": null,
      "metadata": {
        "id": "be0689T0iWRI"
      },
      "outputs": [],
      "source": [
        "# Drop 1 and 4 rows\n",
        "\n",
        "my_df2 = my_df.drop([1,4])\n",
        "my_df2"
      ]
    },
    {
      "cell_type": "code",
      "execution_count": null,
      "metadata": {
        "id": "k-xm-Ud6ipIV"
      },
      "outputs": [],
      "source": [
        "# Reset the index\n",
        "\n",
        "my_df2.reset_index(inplace=True) # inplace means to change dataframe, not return value\n",
        "my_df2"
      ]
    },
    {
      "cell_type": "code",
      "execution_count": null,
      "metadata": {
        "id": "nnp9JBrEi6d6"
      },
      "outputs": [],
      "source": [
        "# Difference between inplace and not\n",
        "\n",
        "print(my_df)\n",
        "print(my_df.drop([1,3,4]))\n",
        "print(my_df)"
      ]
    },
    {
      "cell_type": "code",
      "execution_count": null,
      "metadata": {
        "id": "eNzXtRcdjgjp"
      },
      "outputs": [],
      "source": [
        "# Now with inplace=True\n",
        "print(my_df)\n",
        "print(my_df.drop([1,3,4], inplace=True))\n",
        "print(my_df)\n"
      ]
    },
    {
      "cell_type": "code",
      "execution_count": null,
      "metadata": {
        "id": "4JADX9pNjyrv"
      },
      "outputs": [],
      "source": [
        "# Drop columns\n",
        "scores = [\n",
        "    {'Subject':'Mathematics', 'Score':85, 'Grade':'B', 'Remarks': 'Good'},\n",
        "    {'Subject':'History', 'Score':98, 'Grade':'A', 'Remarks': 'Excellent'},\n",
        "    {'Subject':'English', 'Score':76, 'Grade':'C', 'Remarks': 'Fair'},\n",
        "    {'Subject':'Science', 'Score':72, 'Grade':'C', 'Remarks': 'Fair'},\n",
        "    {'Subject':'Arts', 'Score':95, 'Grade':'A', 'Remarks': 'Excellent'}\n",
        "]\n",
        "\n",
        "my_df = pd.DataFrame(scores)\n",
        "my_df\n"
      ]
    },
    {
      "cell_type": "code",
      "execution_count": null,
      "metadata": {
        "id": "hIxG6pzTj8xy"
      },
      "outputs": [],
      "source": [
        "\n",
        "my_df2 = my_df.drop([\"Subject\",\"Grade\"], axis=1) # axis=1 specifies columns\n",
        "my_df2"
      ]
    },
    {
      "cell_type": "code",
      "execution_count": null,
      "metadata": {
        "id": "9LcGqGwTkigY"
      },
      "outputs": [],
      "source": [
        "# 2 minute exercise\n",
        "# What happens if you rerun the code with axis=0?"
      ]
    },
    {
      "cell_type": "markdown",
      "metadata": {
        "id": "_U4zNYtjkx3T"
      },
      "source": [
        "## Filtering rows and columns\n",
        "\n",
        "Keeps rows and columns. The opposite of drop.\n"
      ]
    },
    {
      "cell_type": "code",
      "execution_count": null,
      "metadata": {
        "id": "MonBmvzakmGR"
      },
      "outputs": [],
      "source": [
        "scores = [\n",
        "    {'Subject':'Mathematics', 'Score':85, 'Grade':'B', 'Remarks': 'Good'},\n",
        "    {'Subject':'History', 'Score':98, 'Grade':'A', 'Remarks': 'Excellent'},\n",
        "    {'Subject':'English', 'Score':76, 'Grade':'C', 'Remarks': 'Fair'},\n",
        "    {'Subject':'Science', 'Score':72, 'Grade':'C', 'Remarks': 'Fair'},\n",
        "    {'Subject':'Arts', 'Score':95, 'Grade':'A', 'Remarks': 'Excellent'}\n",
        "]\n",
        "\n",
        "my_df = pd.DataFrame(scores)\n",
        "my_df"
      ]
    },
    {
      "cell_type": "code",
      "execution_count": null,
      "metadata": {
        "id": "O8rM52b9k5wW"
      },
      "outputs": [],
      "source": [
        "my_df2 = my_df.filter([1,3,4], axis=0)\n",
        "my_df2"
      ]
    },
    {
      "cell_type": "code",
      "execution_count": null,
      "metadata": {
        "id": "elL_7Zv6lEr0"
      },
      "outputs": [],
      "source": [
        "# 5 minute exercise\n",
        "# Rerun the code with axis=1\n",
        "# Explain the results"
      ]
    },
    {
      "cell_type": "code",
      "execution_count": null,
      "metadata": {
        "id": "tI5heKzalRVv"
      },
      "outputs": [],
      "source": [
        "my_df2 = my_df.filter([\"Score\",\"Grade\"],axis=1)\n",
        "my_df2"
      ]
    },
    {
      "cell_type": "code",
      "execution_count": null,
      "metadata": {
        "id": "D52aOVsaA5C6"
      },
      "outputs": [],
      "source": [
        "# Match substring\n",
        "my_df[my_df['Subject'].str.contains('is')]"
      ]
    },
    {
      "cell_type": "markdown",
      "metadata": {
        "id": "lRz34-0z-PX1"
      },
      "source": [
        "## Sorting"
      ]
    },
    {
      "cell_type": "code",
      "execution_count": null,
      "metadata": {
        "id": "abOdn2gA-RIm"
      },
      "outputs": [],
      "source": [
        "df.head()"
      ]
    },
    {
      "cell_type": "code",
      "execution_count": null,
      "metadata": {
        "id": "XqEq116f-ZBi"
      },
      "outputs": [],
      "source": [
        "# Sort by age\n",
        "df_sorted = df.sort_values(by='Age')\n",
        "df_sorted.head()"
      ]
    },
    {
      "cell_type": "code",
      "execution_count": null,
      "metadata": {
        "id": "5hAINPnY-j4-"
      },
      "outputs": [],
      "source": [
        "# Descending order?\n",
        "df_descending = df.sort_values(by='Age', ascending=False)\n",
        "df_descending"
      ]
    },
    {
      "cell_type": "code",
      "execution_count": null,
      "metadata": {
        "id": "88MRVGkx-zGa"
      },
      "outputs": [],
      "source": [
        "# 5 minute exercise\n",
        "# What is the index of the row with the highest blood pressure?"
      ]
    },
    {
      "cell_type": "code",
      "execution_count": null,
      "metadata": {
        "id": "ZqgmPh7y-3I0"
      },
      "outputs": [],
      "source": [
        "# Sort by multiple keys. If two rows are equal per the first key, then sort by the second key.\n",
        "\n",
        "df_sort2 = df.sort_values(by = ['Age','BloodPressure'])\n",
        "df_sort2.head()"
      ]
    },
    {
      "cell_type": "markdown",
      "metadata": {
        "id": "p0ydZpge_SHd"
      },
      "source": [
        "## Descriptive statistics"
      ]
    },
    {
      "cell_type": "code",
      "execution_count": null,
      "metadata": {
        "id": "wYmoDJ9n_N5N"
      },
      "outputs": [],
      "source": [
        "# Descriptive statistics for entire dataframe\n",
        "\n",
        "df.describe()"
      ]
    },
    {
      "cell_type": "code",
      "execution_count": null,
      "metadata": {
        "id": "zKMc3Y8i_iEz"
      },
      "outputs": [],
      "source": [
        "# 5 minute exercise\n",
        "# What does each row mean?"
      ]
    },
    {
      "cell_type": "code",
      "execution_count": null,
      "metadata": {
        "id": "spqm5gEG_lnc"
      },
      "outputs": [],
      "source": [
        "# Single column statistics\n",
        "\n",
        "df['Pregnancies'].describe()"
      ]
    },
    {
      "cell_type": "code",
      "execution_count": null,
      "metadata": {
        "id": "L53L0FFF_vgI"
      },
      "outputs": [],
      "source": [
        "# Find the unique values\n",
        "df['Age'].unique()"
      ]
    },
    {
      "cell_type": "code",
      "execution_count": null,
      "metadata": {
        "id": "vQiEQOGE_6BT"
      },
      "outputs": [],
      "source": [
        "# Find the number of unique values\n",
        "df['Age'].nunique()"
      ]
    },
    {
      "cell_type": "code",
      "execution_count": null,
      "metadata": {
        "id": "E4Ux3AvJ_9bK"
      },
      "outputs": [],
      "source": [
        "# Count non-null values\n",
        "\n",
        "df.count()"
      ]
    },
    {
      "cell_type": "code",
      "execution_count": null,
      "metadata": {
        "id": "bpL0MUx7AJF2"
      },
      "outputs": [],
      "source": [
        "# How many people are there of each age?\n",
        "\n",
        "df['Age'].value_counts()"
      ]
    },
    {
      "cell_type": "code",
      "execution_count": null,
      "metadata": {
        "id": "al2-CswaXp4t"
      },
      "outputs": [],
      "source": [
        "# Plot number of people of each age\n",
        "age_counts = df['Age'].value_counts()\n",
        "\n",
        "age_counts.plot(kind='bar')\n"
      ]
    },
    {
      "cell_type": "code",
      "execution_count": null,
      "metadata": {
        "id": "d8Dmt2JuAYqG"
      },
      "outputs": [],
      "source": [
        "# 5 minute exercise\n",
        "# How many people have 3 pregnancies?"
      ]
    },
    {
      "cell_type": "code",
      "execution_count": null,
      "metadata": {
        "id": "W7LGprSGYG_X"
      },
      "outputs": [],
      "source": [
        "# 5 minute exercise\n",
        "# Plot the number of pregnancies by age"
      ]
    },
    {
      "cell_type": "code",
      "execution_count": null,
      "metadata": {
        "id": "K9sO4f2Fb-mh"
      },
      "outputs": [],
      "source": [
        "# 5 minute exercise\n",
        "# Use Text to add titles to the first part of this file"
      ]
    }
  ],
  "metadata": {
    "colab": {
      "provenance": []
    },
    "kernelspec": {
      "display_name": "Python 3",
      "name": "python3"
    },
    "language_info": {
      "name": "python"
    }
  },
  "nbformat": 4,
  "nbformat_minor": 0
}